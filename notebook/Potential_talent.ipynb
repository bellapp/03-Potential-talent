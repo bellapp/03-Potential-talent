{
 "cells": [
  {
   "cell_type": "code",
   "execution_count": 6,
   "metadata": {},
   "outputs": [],
   "source": [
    "# import main libraries\n",
    "import numpy as np\n",
    "import torch\n",
    "import os\n",
    "import pandas as pd\n",
    "\n",
    "\n",
    "import sys\n",
    "\n",
    "sys.path.append(\"../\")\n",
    "from src import config\n",
    "from src import embeddings\n",
    "from sentence_transformers import SentenceTransformer\n",
    "import faiss.contrib.torch_utils\n",
    "\n",
    "import warnings\n",
    "\n",
    "warnings.filterwarnings(\"ignore\")"
   ]
  },
  {
   "cell_type": "markdown",
   "metadata": {},
   "source": [
    "## EDA"
   ]
  },
  {
   "cell_type": "code",
   "execution_count": 14,
   "metadata": {},
   "outputs": [],
   "source": [
    "# Load the dataset\n",
    "talent_data = pd.read_csv(\n",
    "    os.path.join(\"..\", config.DATA_DIR, \"potential-talents.csv\"), sep=\";\"\n",
    ")"
   ]
  },
  {
   "cell_type": "code",
   "execution_count": 15,
   "metadata": {},
   "outputs": [
    {
     "data": {
      "text/html": [
       "<div>\n",
       "<style scoped>\n",
       "    .dataframe tbody tr th:only-of-type {\n",
       "        vertical-align: middle;\n",
       "    }\n",
       "\n",
       "    .dataframe tbody tr th {\n",
       "        vertical-align: top;\n",
       "    }\n",
       "\n",
       "    .dataframe thead th {\n",
       "        text-align: right;\n",
       "    }\n",
       "</style>\n",
       "<table border=\"1\" class=\"dataframe\">\n",
       "  <thead>\n",
       "    <tr style=\"text-align: right;\">\n",
       "      <th></th>\n",
       "      <th>id</th>\n",
       "      <th>job_title</th>\n",
       "      <th>location</th>\n",
       "      <th>connection</th>\n",
       "      <th>fit</th>\n",
       "    </tr>\n",
       "  </thead>\n",
       "  <tbody>\n",
       "    <tr>\n",
       "      <th>0</th>\n",
       "      <td>1</td>\n",
       "      <td>2019 C.T. Bauer College of Business Graduate (...</td>\n",
       "      <td>Houston, Texas</td>\n",
       "      <td>85</td>\n",
       "      <td>NaN</td>\n",
       "    </tr>\n",
       "    <tr>\n",
       "      <th>1</th>\n",
       "      <td>2</td>\n",
       "      <td>Native English Teacher at EPIK (English Progra...</td>\n",
       "      <td>Kanada</td>\n",
       "      <td>500+</td>\n",
       "      <td>NaN</td>\n",
       "    </tr>\n",
       "    <tr>\n",
       "      <th>2</th>\n",
       "      <td>3</td>\n",
       "      <td>Aspiring Human Resources Professional</td>\n",
       "      <td>Raleigh-Durham, North Carolina Area</td>\n",
       "      <td>44</td>\n",
       "      <td>NaN</td>\n",
       "    </tr>\n",
       "    <tr>\n",
       "      <th>3</th>\n",
       "      <td>4</td>\n",
       "      <td>People Development Coordinator at Ryan</td>\n",
       "      <td>Denton, Texas</td>\n",
       "      <td>500+</td>\n",
       "      <td>NaN</td>\n",
       "    </tr>\n",
       "    <tr>\n",
       "      <th>4</th>\n",
       "      <td>5</td>\n",
       "      <td>Advisory Board Member at Celal Bayar University</td>\n",
       "      <td>?zmir, T�rkiye</td>\n",
       "      <td>500+</td>\n",
       "      <td>NaN</td>\n",
       "    </tr>\n",
       "    <tr>\n",
       "      <th>...</th>\n",
       "      <td>...</td>\n",
       "      <td>...</td>\n",
       "      <td>...</td>\n",
       "      <td>...</td>\n",
       "      <td>...</td>\n",
       "    </tr>\n",
       "    <tr>\n",
       "      <th>99</th>\n",
       "      <td>100</td>\n",
       "      <td>Aspiring Human Resources Manager | Graduating ...</td>\n",
       "      <td>Cape Girardeau, Missouri</td>\n",
       "      <td>103</td>\n",
       "      <td>NaN</td>\n",
       "    </tr>\n",
       "    <tr>\n",
       "      <th>100</th>\n",
       "      <td>101</td>\n",
       "      <td>Human Resources Generalist at Loparex</td>\n",
       "      <td>Raleigh-Durham, North Carolina Area</td>\n",
       "      <td>500+</td>\n",
       "      <td>NaN</td>\n",
       "    </tr>\n",
       "    <tr>\n",
       "      <th>101</th>\n",
       "      <td>102</td>\n",
       "      <td>Business Intelligence and Analytics at Travelers</td>\n",
       "      <td>Greater New York City Area</td>\n",
       "      <td>49</td>\n",
       "      <td>NaN</td>\n",
       "    </tr>\n",
       "    <tr>\n",
       "      <th>102</th>\n",
       "      <td>103</td>\n",
       "      <td>Always set them up for Success</td>\n",
       "      <td>Greater Los Angeles Area</td>\n",
       "      <td>500+</td>\n",
       "      <td>NaN</td>\n",
       "    </tr>\n",
       "    <tr>\n",
       "      <th>103</th>\n",
       "      <td>104</td>\n",
       "      <td>Director Of Administration at Excellence Logging</td>\n",
       "      <td>Katy, Texas</td>\n",
       "      <td>500+</td>\n",
       "      <td>NaN</td>\n",
       "    </tr>\n",
       "  </tbody>\n",
       "</table>\n",
       "<p>104 rows × 5 columns</p>\n",
       "</div>"
      ],
      "text/plain": [
       "      id                                          job_title  \\\n",
       "0      1  2019 C.T. Bauer College of Business Graduate (...   \n",
       "1      2  Native English Teacher at EPIK (English Progra...   \n",
       "2      3              Aspiring Human Resources Professional   \n",
       "3      4             People Development Coordinator at Ryan   \n",
       "4      5    Advisory Board Member at Celal Bayar University   \n",
       "..   ...                                                ...   \n",
       "99   100  Aspiring Human Resources Manager | Graduating ...   \n",
       "100  101              Human Resources Generalist at Loparex   \n",
       "101  102   Business Intelligence and Analytics at Travelers   \n",
       "102  103                     Always set them up for Success   \n",
       "103  104   Director Of Administration at Excellence Logging   \n",
       "\n",
       "                                location connection  fit  \n",
       "0                         Houston, Texas         85  NaN  \n",
       "1                                 Kanada      500+   NaN  \n",
       "2    Raleigh-Durham, North Carolina Area         44  NaN  \n",
       "3                          Denton, Texas      500+   NaN  \n",
       "4                         ?zmir, T�rkiye      500+   NaN  \n",
       "..                                   ...        ...  ...  \n",
       "99              Cape Girardeau, Missouri        103  NaN  \n",
       "100  Raleigh-Durham, North Carolina Area      500+   NaN  \n",
       "101           Greater New York City Area         49  NaN  \n",
       "102             Greater Los Angeles Area      500+   NaN  \n",
       "103                          Katy, Texas      500+   NaN  \n",
       "\n",
       "[104 rows x 5 columns]"
      ]
     },
     "execution_count": 15,
     "metadata": {},
     "output_type": "execute_result"
    }
   ],
   "source": [
    "talent_data"
   ]
  },
  {
   "cell_type": "code",
   "execution_count": 18,
   "metadata": {},
   "outputs": [
    {
     "data": {
      "text/html": [
       "<div>\n",
       "<style scoped>\n",
       "    .dataframe tbody tr th:only-of-type {\n",
       "        vertical-align: middle;\n",
       "    }\n",
       "\n",
       "    .dataframe tbody tr th {\n",
       "        vertical-align: top;\n",
       "    }\n",
       "\n",
       "    .dataframe thead th {\n",
       "        text-align: right;\n",
       "    }\n",
       "</style>\n",
       "<table border=\"1\" class=\"dataframe\">\n",
       "  <thead>\n",
       "    <tr style=\"text-align: right;\">\n",
       "      <th></th>\n",
       "      <th>id</th>\n",
       "      <th>job_title</th>\n",
       "      <th>location</th>\n",
       "      <th>connection</th>\n",
       "      <th>fit</th>\n",
       "    </tr>\n",
       "  </thead>\n",
       "  <tbody>\n",
       "    <tr>\n",
       "      <th>count</th>\n",
       "      <td>104.000000</td>\n",
       "      <td>104</td>\n",
       "      <td>104</td>\n",
       "      <td>104</td>\n",
       "      <td>0.0</td>\n",
       "    </tr>\n",
       "    <tr>\n",
       "      <th>unique</th>\n",
       "      <td>NaN</td>\n",
       "      <td>52</td>\n",
       "      <td>41</td>\n",
       "      <td>33</td>\n",
       "      <td>NaN</td>\n",
       "    </tr>\n",
       "    <tr>\n",
       "      <th>top</th>\n",
       "      <td>NaN</td>\n",
       "      <td>2019 C.T. Bauer College of Business Graduate (...</td>\n",
       "      <td>Kanada</td>\n",
       "      <td>500+</td>\n",
       "      <td>NaN</td>\n",
       "    </tr>\n",
       "    <tr>\n",
       "      <th>freq</th>\n",
       "      <td>NaN</td>\n",
       "      <td>7</td>\n",
       "      <td>12</td>\n",
       "      <td>44</td>\n",
       "      <td>NaN</td>\n",
       "    </tr>\n",
       "    <tr>\n",
       "      <th>mean</th>\n",
       "      <td>52.500000</td>\n",
       "      <td>NaN</td>\n",
       "      <td>NaN</td>\n",
       "      <td>NaN</td>\n",
       "      <td>NaN</td>\n",
       "    </tr>\n",
       "    <tr>\n",
       "      <th>std</th>\n",
       "      <td>30.166206</td>\n",
       "      <td>NaN</td>\n",
       "      <td>NaN</td>\n",
       "      <td>NaN</td>\n",
       "      <td>NaN</td>\n",
       "    </tr>\n",
       "    <tr>\n",
       "      <th>min</th>\n",
       "      <td>1.000000</td>\n",
       "      <td>NaN</td>\n",
       "      <td>NaN</td>\n",
       "      <td>NaN</td>\n",
       "      <td>NaN</td>\n",
       "    </tr>\n",
       "    <tr>\n",
       "      <th>25%</th>\n",
       "      <td>26.750000</td>\n",
       "      <td>NaN</td>\n",
       "      <td>NaN</td>\n",
       "      <td>NaN</td>\n",
       "      <td>NaN</td>\n",
       "    </tr>\n",
       "    <tr>\n",
       "      <th>50%</th>\n",
       "      <td>52.500000</td>\n",
       "      <td>NaN</td>\n",
       "      <td>NaN</td>\n",
       "      <td>NaN</td>\n",
       "      <td>NaN</td>\n",
       "    </tr>\n",
       "    <tr>\n",
       "      <th>75%</th>\n",
       "      <td>78.250000</td>\n",
       "      <td>NaN</td>\n",
       "      <td>NaN</td>\n",
       "      <td>NaN</td>\n",
       "      <td>NaN</td>\n",
       "    </tr>\n",
       "    <tr>\n",
       "      <th>max</th>\n",
       "      <td>104.000000</td>\n",
       "      <td>NaN</td>\n",
       "      <td>NaN</td>\n",
       "      <td>NaN</td>\n",
       "      <td>NaN</td>\n",
       "    </tr>\n",
       "  </tbody>\n",
       "</table>\n",
       "</div>"
      ],
      "text/plain": [
       "                id                                          job_title  \\\n",
       "count   104.000000                                                104   \n",
       "unique         NaN                                                 52   \n",
       "top            NaN  2019 C.T. Bauer College of Business Graduate (...   \n",
       "freq           NaN                                                  7   \n",
       "mean     52.500000                                                NaN   \n",
       "std      30.166206                                                NaN   \n",
       "min       1.000000                                                NaN   \n",
       "25%      26.750000                                                NaN   \n",
       "50%      52.500000                                                NaN   \n",
       "75%      78.250000                                                NaN   \n",
       "max     104.000000                                                NaN   \n",
       "\n",
       "       location connection  fit  \n",
       "count       104        104  0.0  \n",
       "unique       41         33  NaN  \n",
       "top      Kanada      500+   NaN  \n",
       "freq         12         44  NaN  \n",
       "mean        NaN        NaN  NaN  \n",
       "std         NaN        NaN  NaN  \n",
       "min         NaN        NaN  NaN  \n",
       "25%         NaN        NaN  NaN  \n",
       "50%         NaN        NaN  NaN  \n",
       "75%         NaN        NaN  NaN  \n",
       "max         NaN        NaN  NaN  "
      ]
     },
     "execution_count": 18,
     "metadata": {},
     "output_type": "execute_result"
    }
   ],
   "source": [
    "talent_data.describe(include=\"all\")"
   ]
  },
  {
   "cell_type": "markdown",
   "metadata": {},
   "source": [
    "## Preprocessing\n",
    "\n",
    "### before computing embeddings\n",
    "\n",
    "* Lower case all text fields\n",
    "* separate capitalized words\n",
    "    * \"ThisisAWord\" -> \"This is A Word\"\n",
    "\n",
    "* fix_white_space\n",
    "\n",
    "* remove_non_alphanumeric\n",
    "* remove_stop_words\n",
    "* text_to_paragraphs\n",
    "* text_to_sentences\n",
    "* tokenization/lemmatization "
   ]
  },
  {
   "cell_type": "code",
   "execution_count": 25,
   "metadata": {},
   "outputs": [
    {
     "name": "stdout",
     "output_type": "stream",
     "text": [
      "Current working directory: d:\\01-Projects\\Apziva\\03-Potential talent\n"
     ]
    }
   ],
   "source": [
    "current_dir = os.getcwd()\n",
    "\n",
    "# Get the parent directory path\n",
    "parent_dir = os.path.dirname(current_dir)\n",
    "\n",
    "# Change the current working directory to the parent directory which should be the root folder\n",
    "os.chdir(parent_dir)\n",
    "\n",
    "# Verify the new working directory\n",
    "new_dir = os.getcwd()\n",
    "print(\"Current working directory:\", new_dir)"
   ]
  },
  {
   "cell_type": "code",
   "execution_count": 34,
   "metadata": {},
   "outputs": [
    {
     "name": "stderr",
     "output_type": "stream",
     "text": [
      "[nltk_data] Downloading package stopwords to\n",
      "[nltk_data]     C:\\Users\\admin\\AppData\\Roaming\\nltk_data...\n",
      "[nltk_data]   Package stopwords is already up-to-date!\n"
     ]
    }
   ],
   "source": [
    "# from src import preprocessor\n",
    "from src import utils\n",
    "from src import preprocess\n",
    "import logging\n",
    "\n",
    "\n",
    "logger = utils.logger"
   ]
  },
  {
   "cell_type": "code",
   "execution_count": 28,
   "metadata": {},
   "outputs": [
    {
     "name": "stderr",
     "output_type": "stream",
     "text": [
      "2024-10-06 23:13:39,417 - src.utils - INFO - Collecting and preprocessing data ...\n"
     ]
    }
   ],
   "source": [
    "# 1. Collect and preprocess data: The preprocessed data will be dumped into a new file\n",
    "logger.info(\"Collecting and preprocessing data ...\")"
   ]
  },
  {
   "cell_type": "code",
   "execution_count": 29,
   "metadata": {},
   "outputs": [],
   "source": [
    "talent_data_copy = talent_data.copy()"
   ]
  },
  {
   "cell_type": "code",
   "execution_count": 38,
   "metadata": {},
   "outputs": [
    {
     "data": {
      "text/plain": [
       "'ct bauer college business graduate'"
      ]
     },
     "execution_count": 38,
     "metadata": {},
     "output_type": "execute_result"
    }
   ],
   "source": [
    "preprocess.preprocess_text(\"2019 C.T. Bauer College of Business Graduate\")"
   ]
  },
  {
   "cell_type": "code",
   "execution_count": 39,
   "metadata": {},
   "outputs": [
    {
     "data": {
      "text/html": [
       "<div>\n",
       "<style scoped>\n",
       "    .dataframe tbody tr th:only-of-type {\n",
       "        vertical-align: middle;\n",
       "    }\n",
       "\n",
       "    .dataframe tbody tr th {\n",
       "        vertical-align: top;\n",
       "    }\n",
       "\n",
       "    .dataframe thead th {\n",
       "        text-align: right;\n",
       "    }\n",
       "</style>\n",
       "<table border=\"1\" class=\"dataframe\">\n",
       "  <thead>\n",
       "    <tr style=\"text-align: right;\">\n",
       "      <th></th>\n",
       "      <th>id</th>\n",
       "      <th>job_title</th>\n",
       "      <th>location</th>\n",
       "      <th>connection</th>\n",
       "      <th>fit</th>\n",
       "      <th>job_title_p</th>\n",
       "    </tr>\n",
       "  </thead>\n",
       "  <tbody>\n",
       "    <tr>\n",
       "      <th>0</th>\n",
       "      <td>1</td>\n",
       "      <td>2019 C.T. Bauer College of Business Graduate (...</td>\n",
       "      <td>Houston, Texas</td>\n",
       "      <td>85</td>\n",
       "      <td>NaN</td>\n",
       "      <td>ct bauer college business graduate magna cum l...</td>\n",
       "    </tr>\n",
       "    <tr>\n",
       "      <th>1</th>\n",
       "      <td>2</td>\n",
       "      <td>Native English Teacher at EPIK (English Progra...</td>\n",
       "      <td>Kanada</td>\n",
       "      <td>500+</td>\n",
       "      <td>NaN</td>\n",
       "      <td>native english teacher epik english program korea</td>\n",
       "    </tr>\n",
       "    <tr>\n",
       "      <th>2</th>\n",
       "      <td>3</td>\n",
       "      <td>Aspiring Human Resources Professional</td>\n",
       "      <td>Raleigh-Durham, North Carolina Area</td>\n",
       "      <td>44</td>\n",
       "      <td>NaN</td>\n",
       "      <td>aspire human resource professional</td>\n",
       "    </tr>\n",
       "    <tr>\n",
       "      <th>3</th>\n",
       "      <td>4</td>\n",
       "      <td>People Development Coordinator at Ryan</td>\n",
       "      <td>Denton, Texas</td>\n",
       "      <td>500+</td>\n",
       "      <td>NaN</td>\n",
       "      <td>people development coordinator ryan</td>\n",
       "    </tr>\n",
       "    <tr>\n",
       "      <th>4</th>\n",
       "      <td>5</td>\n",
       "      <td>Advisory Board Member at Celal Bayar University</td>\n",
       "      <td>?zmir, T�rkiye</td>\n",
       "      <td>500+</td>\n",
       "      <td>NaN</td>\n",
       "      <td>advisory board member celal bayar university</td>\n",
       "    </tr>\n",
       "    <tr>\n",
       "      <th>...</th>\n",
       "      <td>...</td>\n",
       "      <td>...</td>\n",
       "      <td>...</td>\n",
       "      <td>...</td>\n",
       "      <td>...</td>\n",
       "      <td>...</td>\n",
       "    </tr>\n",
       "    <tr>\n",
       "      <th>99</th>\n",
       "      <td>100</td>\n",
       "      <td>Aspiring Human Resources Manager | Graduating ...</td>\n",
       "      <td>Cape Girardeau, Missouri</td>\n",
       "      <td>103</td>\n",
       "      <td>NaN</td>\n",
       "      <td>aspire human resource manager graduate seek en...</td>\n",
       "    </tr>\n",
       "    <tr>\n",
       "      <th>100</th>\n",
       "      <td>101</td>\n",
       "      <td>Human Resources Generalist at Loparex</td>\n",
       "      <td>Raleigh-Durham, North Carolina Area</td>\n",
       "      <td>500+</td>\n",
       "      <td>NaN</td>\n",
       "      <td>human resource generalist loparex</td>\n",
       "    </tr>\n",
       "    <tr>\n",
       "      <th>101</th>\n",
       "      <td>102</td>\n",
       "      <td>Business Intelligence and Analytics at Travelers</td>\n",
       "      <td>Greater New York City Area</td>\n",
       "      <td>49</td>\n",
       "      <td>NaN</td>\n",
       "      <td>business intelligence analytic traveler</td>\n",
       "    </tr>\n",
       "    <tr>\n",
       "      <th>102</th>\n",
       "      <td>103</td>\n",
       "      <td>Always set them up for Success</td>\n",
       "      <td>Greater Los Angeles Area</td>\n",
       "      <td>500+</td>\n",
       "      <td>NaN</td>\n",
       "      <td>set success</td>\n",
       "    </tr>\n",
       "    <tr>\n",
       "      <th>103</th>\n",
       "      <td>104</td>\n",
       "      <td>Director Of Administration at Excellence Logging</td>\n",
       "      <td>Katy, Texas</td>\n",
       "      <td>500+</td>\n",
       "      <td>NaN</td>\n",
       "      <td>director administration excellence log</td>\n",
       "    </tr>\n",
       "  </tbody>\n",
       "</table>\n",
       "<p>104 rows × 6 columns</p>\n",
       "</div>"
      ],
      "text/plain": [
       "      id                                          job_title  \\\n",
       "0      1  2019 C.T. Bauer College of Business Graduate (...   \n",
       "1      2  Native English Teacher at EPIK (English Progra...   \n",
       "2      3              Aspiring Human Resources Professional   \n",
       "3      4             People Development Coordinator at Ryan   \n",
       "4      5    Advisory Board Member at Celal Bayar University   \n",
       "..   ...                                                ...   \n",
       "99   100  Aspiring Human Resources Manager | Graduating ...   \n",
       "100  101              Human Resources Generalist at Loparex   \n",
       "101  102   Business Intelligence and Analytics at Travelers   \n",
       "102  103                     Always set them up for Success   \n",
       "103  104   Director Of Administration at Excellence Logging   \n",
       "\n",
       "                                location connection  fit  \\\n",
       "0                         Houston, Texas         85  NaN   \n",
       "1                                 Kanada      500+   NaN   \n",
       "2    Raleigh-Durham, North Carolina Area         44  NaN   \n",
       "3                          Denton, Texas      500+   NaN   \n",
       "4                         ?zmir, T�rkiye      500+   NaN   \n",
       "..                                   ...        ...  ...   \n",
       "99              Cape Girardeau, Missouri        103  NaN   \n",
       "100  Raleigh-Durham, North Carolina Area      500+   NaN   \n",
       "101           Greater New York City Area         49  NaN   \n",
       "102             Greater Los Angeles Area      500+   NaN   \n",
       "103                          Katy, Texas      500+   NaN   \n",
       "\n",
       "                                           job_title_p  \n",
       "0    ct bauer college business graduate magna cum l...  \n",
       "1    native english teacher epik english program korea  \n",
       "2                   aspire human resource professional  \n",
       "3                  people development coordinator ryan  \n",
       "4         advisory board member celal bayar university  \n",
       "..                                                 ...  \n",
       "99   aspire human resource manager graduate seek en...  \n",
       "100                  human resource generalist loparex  \n",
       "101            business intelligence analytic traveler  \n",
       "102                                        set success  \n",
       "103             director administration excellence log  \n",
       "\n",
       "[104 rows x 6 columns]"
      ]
     },
     "execution_count": 39,
     "metadata": {},
     "output_type": "execute_result"
    }
   ],
   "source": [
    "talent_data_copy[\"job_title_p\"] = talent_data_copy[\"job_title\"].apply(\n",
    "    preprocess.preprocess_text\n",
    ")\n",
    "talent_data_copy"
   ]
  },
  {
   "cell_type": "markdown",
   "metadata": {},
   "source": [
    "### Embedding"
   ]
  },
  {
   "cell_type": "code",
   "execution_count": null,
   "metadata": {},
   "outputs": [],
   "source": [
    "data = dict(\n",
    "    zip(\n",
    "        talent_data_copy[\"id\"].values.tolist(),\n",
    "        embeddings.get_embeddings_from_lemmatized_sentences(\n",
    "            talent_data_copy[\"job_title_p\"].values.tolist()\n",
    "        ),\n",
    "    )\n",
    ")\n",
    "utils.save_json(\n",
    "    data,\n",
    "    os.path.join(\n",
    "        config.DATA_DIR,\n",
    "        \"processed\",\n",
    "        f\"{config.TEXT_SECTION_TYPE}_\"\n",
    "        + \"_\".join(config.TRAIN_DATA_INPUT_TYPES)\n",
    "        + \"_embeddings.json\",\n",
    "    ),\n",
    ")"
   ]
  },
  {
   "cell_type": "markdown",
   "metadata": {},
   "source": [
    "## Training"
   ]
  },
  {
   "cell_type": "code",
   "execution_count": 8,
   "metadata": {},
   "outputs": [
    {
     "name": "stderr",
     "output_type": "stream",
     "text": [
      "C:\\Users\\admin\\AppData\\Roaming\\Python\\Python312\\site-packages\\transformers\\tokenization_utils_base.py:1617: FutureWarning: `clean_up_tokenization_spaces` was not set. It will be set to `True` by default. This behavior will be deprecated in transformers v4.45, and will be then set to `False` by default. For more details check this issue: https://github.com/huggingface/transformers/issues/31884\n",
      "  warnings.warn(\n"
     ]
    }
   ],
   "source": [
    "# Load a pre-trained model\n",
    "\n",
    "model = SentenceTransformer(\"msmarco-MiniLM-L-12-v3\")\n",
    "job_titles = talent_data[\"job_title\"].tolist()\n",
    "\n",
    "# embed hotel reviews\n",
    "\n",
    "job_titles_embds = model.encode(job_titles)"
   ]
  },
  {
   "cell_type": "code",
   "execution_count": 9,
   "metadata": {},
   "outputs": [
    {
     "data": {
      "text/plain": [
       "array([[-0.25508878, -0.01373229, -0.07645729, ..., -0.55478364,\n",
       "         0.1249141 , -0.47570327],\n",
       "       [ 0.32636008,  0.2628865 ,  0.51103956, ...,  0.4303046 ,\n",
       "         0.05353639,  0.1499273 ],\n",
       "       [ 0.44917667,  0.24064577, -0.04250324, ..., -0.33236706,\n",
       "        -0.332711  , -0.1096751 ],\n",
       "       ...,\n",
       "       [ 0.04733843, -0.01758945, -0.2557778 , ..., -0.3086499 ,\n",
       "         0.1094522 , -0.33761653],\n",
       "       [-0.10538442,  0.06323341, -0.53019553, ..., -0.40946347,\n",
       "        -0.20917243,  0.24782464],\n",
       "       [ 0.24558017, -0.26688632,  0.31220445, ..., -0.65013444,\n",
       "        -0.1799025 ,  0.20887013]], dtype=float32)"
      ]
     },
     "execution_count": 9,
     "metadata": {},
     "output_type": "execute_result"
    }
   ],
   "source": [
    "job_titles_embds"
   ]
  },
  {
   "cell_type": "code",
   "execution_count": 10,
   "metadata": {},
   "outputs": [
    {
     "data": {
      "text/plain": [
       "384"
      ]
     },
     "execution_count": 10,
     "metadata": {},
     "output_type": "execute_result"
    }
   ],
   "source": [
    "d = job_titles_embds.shape[1]\n",
    "d"
   ]
  },
  {
   "cell_type": "code",
   "execution_count": 11,
   "metadata": {},
   "outputs": [],
   "source": [
    "import faiss\n",
    "import time\n",
    "\n",
    "# Create an index using FAISS\n",
    "job_titles_embds = np.array(job_titles_embds, dtype=\"float32\")\n",
    "index = faiss.IndexFlatL2(job_titles_embds.shape[1])\n",
    "index.is_trained\n",
    "index.add(job_titles_embds)\n",
    "faiss.write_index(index, \"index_job_titles\")\n",
    "index = faiss.read_index(\"index_job_titles\")"
   ]
  },
  {
   "cell_type": "code",
   "execution_count": 14,
   "metadata": {},
   "outputs": [],
   "source": [
    "def search(query):\n",
    "\n",
    "    t = time.time()\n",
    "    query_vector = model.encode([query])\n",
    "    k = 5\n",
    "    top_k = index.search(query_vector, k)\n",
    "    print(top_k)\n",
    "    print(\"totaltime: {}\".format(time.time() - t))\n",
    "    return [job_titles[_id] for _id in top_k[1].tolist()[0]]"
   ]
  },
  {
   "cell_type": "code",
   "execution_count": 15,
   "metadata": {},
   "outputs": [
    {
     "name": "stdout",
     "output_type": "stream",
     "text": [
      "(array([[7.5216384, 7.5216384, 7.5216384, 7.5216384, 7.5216384]],\n",
      "      dtype=float32), array([[ 2, 16, 20, 32, 45]], dtype=int64))\n",
      "totaltime: 0.026020050048828125\n"
     ]
    },
    {
     "data": {
      "text/plain": [
       "['Aspiring Human Resources Professional',\n",
       " 'Aspiring Human Resources Professional',\n",
       " 'Aspiring Human Resources Professional',\n",
       " 'Aspiring Human Resources Professional',\n",
       " 'Aspiring Human Resources Professional']"
      ]
     },
     "execution_count": 15,
     "metadata": {},
     "output_type": "execute_result"
    }
   ],
   "source": [
    "results = search(\"Aspiring human resources\")\n",
    "results"
   ]
  },
  {
   "cell_type": "code",
   "execution_count": 16,
   "metadata": {},
   "outputs": [
    {
     "name": "stdout",
     "output_type": "stream",
     "text": [
      "(array([[ 8.325108,  8.325108, 12.726274, 19.924831, 20.216654]],\n",
      "      dtype=float32), array([[27, 29, 98, 93,  2]], dtype=int64))\n",
      "totaltime: 0.036566972732543945\n"
     ]
    },
    {
     "data": {
      "text/plain": [
       "['Seeking Human Resources Opportunities',\n",
       " 'Seeking Human Resources Opportunities',\n",
       " 'Seeking Human Resources Position',\n",
       " 'Seeking Human  Resources Opportunities. Open to travel and relocation.',\n",
       " 'Aspiring Human Resources Professional']"
      ]
     },
     "execution_count": 16,
     "metadata": {},
     "output_type": "execute_result"
    }
   ],
   "source": [
    "results2 = search(\"seeking human resources\")\n",
    "results2"
   ]
  }
 ],
 "metadata": {
  "kernelspec": {
   "display_name": "base",
   "language": "python",
   "name": "python3"
  },
  "language_info": {
   "codemirror_mode": {
    "name": "ipython",
    "version": 3
   },
   "file_extension": ".py",
   "mimetype": "text/x-python",
   "name": "python",
   "nbconvert_exporter": "python",
   "pygments_lexer": "ipython3",
   "version": "3.12.7"
  }
 },
 "nbformat": 4,
 "nbformat_minor": 2
}
